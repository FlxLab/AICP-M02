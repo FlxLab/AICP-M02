{
  "cells": [
    {
      "cell_type": "markdown",
      "metadata": {
        "id": "NTK34uxMjMYL"
      },
      "source": [
        "# Assignment based on Tutorial II: Fully connected NNs\n",
        "<p>\n",
        "AICP, 2024<br>\n",
        "Prepared by Mykhailo Vladymyrov.\n",
        "</p>\n",
        "This work is licensed under a <a href=\"http://creativecommons.org/licenses/by-nc-sa/4.0/\">Creative Commons Attribution-NonCommercial-ShareAlike 4.0 International License</a>.\n",
        "\n",
        "Test H: Based on Two-Layer Model (Baseline) with Manually Expanded Dataset (Model C) and three hiden layers\n"
      ]
    },
    {
      "cell_type": "markdown",
      "metadata": {
        "id": "kmjKrW6WjS3K"
      },
      "source": [
        "## 1. Load necessary libraries\n",
        "\n"
      ]
    },
    {
      "cell_type": "code",
      "execution_count": 1,
      "metadata": {
        "id": "f8lKArr6jSgD"
      },
      "outputs": [],
      "source": [
        "import os\n",
        "import sys\n",
        "import tarfile\n",
        "import requests\n",
        "\n",
        "import random\n",
        "import numpy as np\n",
        "import matplotlib.pyplot as plt\n",
        "\n",
        "import torch\n",
        "import torch.nn as nn\n",
        "import torch.nn.functional as F\n",
        "import torch.optim as optim\n",
        "from torchvision import datasets, transforms\n",
        "import torch.utils.data\n",
        "from torch.utils.data import TensorDataset, DataLoader \n"
      ]
    },
    {
      "cell_type": "markdown",
      "metadata": {
        "id": "U0I6wPiH8lIn"
      },
      "source": [
        "## 2. Structure of a neural network"
      ]
    },
    {
      "cell_type": "code",
      "execution_count": 2,
      "metadata": {
        "id": "Qo8IDRWI8ohv"
      },
      "outputs": [],
      "source": [
        "#Import nn.functional as F_nn to use neural network operations (e.g., softmax).\n",
        "# Using an alias (F_nn) avoids confusion with image transformation functions from torchvision.\n",
        "\n",
        "import torch.nn.functional as F_nn  # Alias for softmax and other neural network operations\n",
        "\n",
        "#Class Definition and Initialization\n",
        "class MyModel(nn.Module):\n",
        "    def __init__(self, n_input, n_hiddens, n_output): \n",
        "        super(MyModel, self).__init__()\n",
        "   \n",
        "        self.ls = []\n",
        "        n_prev = n_input\n",
        "        for i, n_out in enumerate(n_hiddens):\n",
        "          l = nn.Linear(n_prev, n_out) \n",
        "          n_prev = n_out \n",
        "          self.add_module(f'lin_{i}_{n_out}', l) \n",
        "          self.ls.append(l) \n",
        "\n",
        "        self.lout = nn.Linear(n_prev, n_output) \n",
        "\n",
        "\n",
        "    def forward(self, x):\n",
        "        x = torch.flatten(x, start_dim=1)       \n",
        "        h = x \n",
        "        for li in self.ls:  \n",
        "          h = li(h) \n",
        "          h = torch.relu(h) \n",
        "          \n",
        "        logits = self.lout(h)\n",
        "        probs = F.softmax(logits, dim=1) \n",
        "        pred = torch.argmax(probs, dim=1) \n",
        "\n",
        "        return logits, probs, pred     "
      ]
    },
    {
      "cell_type": "code",
      "execution_count": 3,
      "metadata": {},
      "outputs": [],
      "source": [
        "# Import the required image transformation functions from torchvision.\n",
        "# Alias as F_tv to distinguish from nn.functional used elsewhere in the code.\n",
        "from torchvision.transforms import functional as F_tv  \n",
        "import torch\n",
        "from torchvision import datasets, transforms\n",
        "from torch.utils.data import DataLoader\n",
        "\n",
        "# Define a function to shift an image by a given number of pixels in the x and y directions.\n",
        "def shift_image(image, shift_x, shift_y):\n",
        "    return F_tv.affine(image, angle=0, translate=(shift_x, shift_y), scale=1, shear=0)"
      ]
    },
    {
      "cell_type": "markdown",
      "metadata": {
        "id": "OyxjipoN9dfS"
      },
      "source": [
        "\n",
        "## 3. Load the data\n",
        "First, we will load the data: originally, there are 60,000 training images and 10,000 images for validation. However, we will expand the training set by adding shifted copies of each image, which will increase the number of training images.\n",
        "\n",
        "Each image is 28x28 pixels. For this model, we will interpret it as a 1D array of 784 elements.\n",
        "\n",
        "Note: The images are initially 28x28 pixels, but since a neural network expects a flat array of features (a 1D vector), they will be transformed into a 1D array of 784 elements (28 × 28 = 784) within the model's forward method."
      ]
    },
    {
      "cell_type": "code",
      "execution_count": 4,
      "metadata": {
        "id": "O-EivCFK87eQ"
      },
      "outputs": [
        {
          "name": "stdout",
          "output_type": "stream",
          "text": [
            "Expanded train dataset shape: 300000\n",
            "Test dataset shape: 10000\n"
          ]
        }
      ],
      "source": [
        "# Define a transform to normalize the data (no flattening here)\n",
        "transform = transforms.Compose([\n",
        "    transforms.ToTensor(),  \n",
        "    transforms.Normalize((0.5,), (0.5,))  \n",
        "])\n",
        "\n",
        "# Load the original training dataset\n",
        "trainset = datasets.FashionMNIST('~/.pytorch/FMNIST_data/', download=True, train=True, transform=transform)\n",
        "\n",
        "# Create an expanded dataset by adding shifted copies\n",
        "expanded_dataset = []\n",
        "\n",
        "for img, label in trainset:\n",
        "    # Add the original image\n",
        "    expanded_dataset.append((img, label))\n",
        "\n",
        "    # Shifts to create new copies: up, down, left, right\n",
        "    shifts = [(2, 0), (-2, 0), (0, 2), (0, -2)] \n",
        "\n",
        "    for shift in shifts:\n",
        "        # Apply the shift to the image\n",
        "        shifted_img = shift_image(img, shift_x=shift[0], shift_y=shift[1])\n",
        "        expanded_dataset.append((shifted_img, label))\n",
        "\n",
        "# Convert the expanded dataset to a DataLoader for training\n",
        "expanded_loader = DataLoader(expanded_dataset, batch_size=64, shuffle=True)\n",
        "\n",
        "# Load the test dataset (no augmentation)\n",
        "testset = datasets.FashionMNIST('~/.pytorch/FMNIST_data/', download=True, train=False, transform=transform)\n",
        "testloader = DataLoader(testset, batch_size=64, shuffle=True)\n",
        "\n",
        "# Print the shapes of the datasets\n",
        "print('Expanded train dataset shape:', len(expanded_dataset))\n",
        "print('Test dataset shape:', len(testset))"
      ]
    },
    {
      "cell_type": "code",
      "execution_count": 5,
      "metadata": {
        "id": "bABHqvh_xY60"
      },
      "outputs": [
        {
          "name": "stdout",
          "output_type": "stream",
          "text": [
            "torch.Size([1, 28, 28]) 9\n"
          ]
        }
      ],
      "source": [
        "#Looping Over the Dataset\n",
        "for el in trainset:\n",
        "  x, y = el\n",
        "  print(x.shape, y)\n",
        "  break"
      ]
    },
    {
      "cell_type": "code",
      "execution_count": 6,
      "metadata": {
        "id": "prPyGDvxxw-d"
      },
      "outputs": [
        {
          "name": "stdout",
          "output_type": "stream",
          "text": [
            "torch.Size([64, 1, 28, 28]) torch.Size([64])\n"
          ]
        }
      ],
      "source": [
        "for el in expanded_loader: # Use expanded_loader instead of trainloader\n",
        "  x, y = el \n",
        "  print(x.shape, y.shape) \n",
        "  break"
      ]
    },
    {
      "cell_type": "markdown",
      "metadata": {},
      "source": [
        "### Adding this function with a Quick Inspection here, with purpose to visually confirm that the manually expanded images are appearing as intended before they are used in training."
      ]
    },
    {
      "cell_type": "code",
      "execution_count": 7,
      "metadata": {},
      "outputs": [
        {
          "name": "stdout",
          "output_type": "stream",
          "text": [
            "torch.Size([64, 1, 28, 28]) torch.Size([64])\n"
          ]
        },
        {
          "data": {
            "image/png": "[encoded data removed]",
            "text/plain": [
              "<Figure size 1000x300 with 3 Axes>"
            ]
          },
          "metadata": {},
          "output_type": "display_data"
        }
      ],
      "source": [
        "# Define the class names for FashionMNIST\n",
        "class_names = ['T-shirt/top', 'Trouser', 'Pullover', 'Dress', 'Coat', 'Sandal', 'Shirt', 'Sneaker', 'Bag', 'Ankle boot']\n",
        "\n",
        "# Quick inspection of augmented images\n",
        "def quick_inspect(loader, num_images=3):\n",
        "    dataiter = iter(loader)\n",
        "    images, labels = next(dataiter)\n",
        "    plt.figure(figsize=(10, 3))\n",
        "    for i in range(num_images):\n",
        "        plt.subplot(1, num_images, i+1)\n",
        "        plt.imshow(images[i].numpy().reshape(28, 28), cmap='gray')\n",
        "        # Display both the label index and the corresponding class name\n",
        "        plt.title(f'Label: {labels[i].item()} ({class_names[labels[i].item()]})')\n",
        "        plt.axis('off')\n",
        "    plt.show()\n",
        "\n",
        "# Print the shape of one batch from the expanded dataset\n",
        "for el in expanded_loader:  # Use expanded_loader instead of trainloader\n",
        "    x, y = el\n",
        "    print(x.shape, y.shape)\n",
        "    break\n",
        "\n",
        "# Use the quick inspection function if needed\n",
        "quick_inspect(expanded_loader)"
      ]
    },
    {
      "cell_type": "markdown",
      "metadata": {
        "id": "z6jMPCtL_3TR"
      },
      "source": [
        "## 6. Bulding a neural network\n",
        "\n",
        "Number of inputs for neurons will be given by input data, i.e. image dims (flattened), size. Output - by number of classes, 10 in our case."
      ]
    },
    {
      "cell_type": "code",
      "execution_count": 8,
      "metadata": {
        "id": "EYGX-9RP-6B4"
      },
      "outputs": [],
      "source": [
        "# Initialisierung des Modells mit zusätzlichen Schichten\n",
        "model = MyModel(n_input=784, n_hiddens=[1128, 64, 32], n_output=10)  "
      ]
    },
    {
      "cell_type": "code",
      "execution_count": 9,
      "metadata": {},
      "outputs": [
        {
          "name": "stdout",
          "output_type": "stream",
          "text": [
            "The model has 960146 trainable parameters.\n"
          ]
        }
      ],
      "source": [
        "# Function to get the number of parameters\n",
        "def get_npars(model):\n",
        "    \"\"\"\n",
        "    Returns the total number of trainable parameters in the given PyTorch model.\n",
        "    \"\"\"\n",
        "    n = np.sum([np.prod(list(p.shape)) for p in model.parameters()])\n",
        "    return int(n)\n",
        "\n",
        "# Get and print the number of parameters in the model\n",
        "num_parameters = get_npars(model)\n",
        "print(f'The model has {num_parameters} trainable parameters.')\n"
      ]
    },
    {
      "cell_type": "code",
      "execution_count": 10,
      "metadata": {},
      "outputs": [],
      "source": [
        "# Loss function\n",
        "criterion = nn.CrossEntropyLoss()\n",
        "optimizer = optim.Adam(model.parameters(), lr=0.001)\n"
      ]
    },
    {
      "cell_type": "markdown",
      "metadata": {
        "id": "f5o71gymAA9h"
      },
      "source": [
        "Defining a training function:"
      ]
    },
    {
      "cell_type": "code",
      "execution_count": 11,
      "metadata": {
        "id": "dTrUXsn1_04A"
      },
      "outputs": [],
      "source": [
        "def train(model, expanded_loader, criterion, optimizer):\n",
        "    model.train()\n",
        "    running_loss = 0.0\n",
        "    for images, labels in expanded_loader:\n",
        "        optimizer.zero_grad()  \n",
        "        output, _, _ = model(images) \n",
        "        loss = criterion(output, labels) \n",
        "        loss.backward()  \n",
        "        optimizer.step()  \n",
        "        running_loss += loss.item() \n",
        "    return running_loss / len(expanded_loader) \n"
      ]
    },
    {
      "cell_type": "markdown",
      "metadata": {
        "id": "bdMh6wDbADtZ"
      },
      "source": [
        "Defining a testing function:"
      ]
    },
    {
      "cell_type": "code",
      "execution_count": 12,
      "metadata": {
        "id": "u7h2JtuFADQA"
      },
      "outputs": [],
      "source": [
        "def test(model, testloader, criterion):\n",
        "    model.eval()\n",
        "    running_loss = 0.0\n",
        "    n_correct = 0\n",
        "    n_samples = 0  \n",
        "\n",
        "    with torch.no_grad(): \n",
        "        for images, labels in testloader:\n",
        "            output, prob, pred = model(images)\n",
        "            loss = criterion(output, labels) \n",
        "            running_loss += loss.item()\n",
        "\n",
        "            correct = torch.sum(pred == labels) \n",
        "            n_correct += correct.item()  \n",
        "            n_samples += labels.size(0) \n",
        "\n",
        "    accuracy = n_correct / n_samples  # Compute overall accuracy\n",
        "    return running_loss / len(testloader), accuracy"
      ]
    },
    {
      "cell_type": "code",
      "execution_count": 13,
      "metadata": {
        "id": "ZFsha_J42uPv"
      },
      "outputs": [
        {
          "data": {
            "text/plain": [
              "64"
            ]
          },
          "execution_count": 13,
          "metadata": {},
          "output_type": "execute_result"
        }
      ],
      "source": [
        "testloader.batch_size"
      ]
    },
    {
      "cell_type": "markdown",
      "metadata": {
        "id": "OGvXGVvaAH_g"
      },
      "source": [
        "Training the model"
      ]
    },
    {
      "cell_type": "code",
      "execution_count": 14,
      "metadata": {
        "id": "B34VjSa2AGsf"
      },
      "outputs": [
        {
          "name": "stdout",
          "output_type": "stream",
          "text": [
            "Epoch 1/10, Train Loss: 0.4715, Test Loss: 0.3856, Test Accuracy: 0.8577\n",
            "Epoch 2/10, Train Loss: 0.3540, Test Loss: 0.3513, Test Accuracy: 0.8726\n",
            "Epoch 3/10, Train Loss: 0.3204, Test Loss: 0.3338, Test Accuracy: 0.8811\n",
            "Epoch 4/10, Train Loss: 0.2988, Test Loss: 0.3446, Test Accuracy: 0.8746\n",
            "Epoch 5/10, Train Loss: 0.2822, Test Loss: 0.3358, Test Accuracy: 0.8817\n",
            "Epoch 6/10, Train Loss: 0.2706, Test Loss: 0.3165, Test Accuracy: 0.8872\n",
            "Epoch 7/10, Train Loss: 0.2581, Test Loss: 0.3249, Test Accuracy: 0.8868\n",
            "Epoch 8/10, Train Loss: 0.2484, Test Loss: 0.3265, Test Accuracy: 0.8899\n",
            "Epoch 9/10, Train Loss: 0.2397, Test Loss: 0.3076, Test Accuracy: 0.8938\n",
            "Epoch 10/10, Train Loss: 0.2311, Test Loss: 0.3141, Test Accuracy: 0.8951\n"
          ]
        }
      ],
      "source": [
        "import time\n",
        "\n",
        "# Lists to store losses and accuracy for Test H model\n",
        "train_losses_testH = []\n",
        "test_losses_testH = []\n",
        "test_accuracies_testH = []  \n",
        "time_per_epochH = []\n",
        "\n",
        "num_epochs = 10 # Number of epochs for training\n",
        "\n",
        "for epoch in range(num_epochs):\n",
        "    start_time = time.time()  # Startzeit für die Epoche\n",
        "    train_loss = train(model, expanded_loader, criterion, optimizer)\n",
        "    test_loss, test_accuracy = test(model, testloader, criterion)  # Assuming test returns loss and accuracy\n",
        "\n",
        "   # Store losses for Test H model\n",
        "    train_losses_testH.append(train_loss)\n",
        "    test_losses_testH.append(test_loss)\n",
        "\n",
        "     # Store accuracy for Test H model\n",
        "    test_accuracies_testH.append(test_accuracy)\n",
        "\n",
        "    end_time = time.time()  # Endzeit der Epoche\n",
        "    epoch_time = end_time - start_time  # Berechne die Zeit für diese Epoche\n",
        "    time_per_epochH.append(epoch_time)\n",
        "\n",
        "    print(f'Epoch {epoch+1}/{num_epochs}, Train Loss: {train_loss:.4f}, Test Loss: {test_loss:.4f}, Test Accuracy: {test_accuracy:.4f}')"
      ]
    },
    {
      "cell_type": "markdown",
      "metadata": {
        "id": "XjNpSOZ8BdTA"
      },
      "source": [
        "Visualize the loss curves"
      ]
    },
    {
      "cell_type": "code",
      "execution_count": 15,
      "metadata": {
        "id": "tQNq_xOGAJc_"
      },
      "outputs": [
        {
          "data": {
            "image/png": "[encoded data removed]",
            "text/plain": [
              "<Figure size 1000x500 with 1 Axes>"
            ]
          },
          "metadata": {},
          "output_type": "display_data"
        }
      ],
      "source": [
        "# Plotting the loss curves for the Test H model\n",
        "fig, ax = plt.subplots(figsize=(10, 5))\n",
        "ax.plot(range(num_epochs), train_losses_testH, label='Training Loss')\n",
        "ax.plot(range(num_epochs), test_losses_testH, label='Test Loss')\n",
        "ax.set_xlabel('Epoch')\n",
        "ax.set_ylabel('Loss')\n",
        "ax.legend(loc='upper right')\n",
        "ax.set_title('Loss Curves for H Model')\n",
        "plt.show()"
      ]
    },
    {
      "cell_type": "code",
      "execution_count": 16,
      "metadata": {
        "id": "_z0KQzL9_lOK"
      },
      "outputs": [
        {
          "name": "stdout",
          "output_type": "stream",
          "text": [
            "884352\n",
            "1128\n",
            "72192\n",
            "64\n",
            "2048\n",
            "32\n",
            "320\n",
            "10\n"
          ]
        }
      ],
      "source": [
        "for p in model.parameters():\n",
        "  print(np.prod(list(p.shape)))"
      ]
    },
    {
      "cell_type": "code",
      "execution_count": 17,
      "metadata": {
        "id": "ogO__Cv9BtYO"
      },
      "outputs": [
        {
          "name": "stdout",
          "output_type": "stream",
          "text": [
            "Accuracy: 0.8951\n"
          ]
        }
      ],
      "source": [
        "def get_predictions(model, loader):\n",
        "    model.eval()\n",
        "    predictions = []\n",
        "    labels = []\n",
        "    images_list = []\n",
        "    with torch.no_grad():\n",
        "        for images, label in loader:\n",
        "            output, _, _ = model(images)\n",
        "            pred = output.argmax(dim=1)\n",
        "            predictions.extend(pred.tolist())\n",
        "            labels.extend(label.tolist())\n",
        "            images_list.extend(images)\n",
        "    return predictions, labels, images_list\n",
        "\n",
        "def calculate_accuracy(predictions, labels):\n",
        "    correct = sum(pred == label for pred, label in zip(predictions, labels))\n",
        "    total = len(labels)\n",
        "    accuracy = correct / total\n",
        "    return accuracy\n",
        "\n",
        "# Get predictions, labels, and images\n",
        "predictions, labels, images_list = get_predictions(model, testloader)\n",
        "correct = [pred == label for pred, label in zip(predictions, labels)]\n",
        "\n",
        "accuracy = calculate_accuracy(predictions, labels)\n",
        "\n",
        "print(f\"Accuracy: {accuracy}\")"
      ]
    },
    {
      "cell_type": "markdown",
      "metadata": {
        "id": "E43y5wzgEkO6"
      },
      "source": [
        "Aggregate a correct and incorrect example and visualize:"
      ]
    },
    {
      "cell_type": "code",
      "execution_count": 18,
      "metadata": {
        "id": "M_XRml4MB4AG"
      },
      "outputs": [
        {
          "name": "stdout",
          "output_type": "stream",
          "text": [
            "First incorrect digit is at index: 0\n"
          ]
        },
        {
          "data": {
            "image/png": "[encoded data removed]",
            "text/plain": [
              "<Figure size 640x480 with 1 Axes>"
            ]
          },
          "metadata": {},
          "output_type": "display_data"
        },
        {
          "name": "stdout",
          "output_type": "stream",
          "text": [
            "First correct digit is at index: 1\n"
          ]
        },
        {
          "data": {
            "image/png": "[encoded data removed]",
            "text/plain": [
              "<Figure size 640x480 with 1 Axes>"
            ]
          },
          "metadata": {},
          "output_type": "display_data"
        }
      ],
      "source": [
        "# Get the class names from the dataset\n",
        "class_names = trainset.classes\n",
        "\n",
        "# Find the index of the first incorrect and correct prediction\n",
        "wrong_idx = next((i for i, correct in enumerate(correct) if not correct), None)\n",
        "correct_idx = next((i for i, correct in enumerate(correct) if correct), None)\n",
        "\n",
        "# Function to display an image\n",
        "def display_image(image, title):\n",
        "    plt.imshow(image.numpy().reshape(28, 28), cmap='gray')\n",
        "    plt.title(title)\n",
        "    plt.show()\n",
        "\n",
        "# Display the first incorrect sample (if any incorrect are found)\n",
        "if wrong_idx is not None:\n",
        "    print(f\"First incorrect digit is at index: {wrong_idx}\")\n",
        "    pred = predictions[wrong_idx]\n",
        "    lbl  = labels[wrong_idx]\n",
        "    display_image(images_list[wrong_idx], f\"Predicted: {pred} ({class_names[pred]}), Actual: {lbl}({class_names[lbl]})\")\n",
        "else:\n",
        "    print(\"No incorrect predictions found\")\n",
        "\n",
        "# Display the first correct sample (if any correct are found)\n",
        "if correct_idx is not None:\n",
        "    print(f\"First correct digit is at index: {correct_idx}\")\n",
        "    pred = predictions[correct_idx]\n",
        "    lbl  = labels[correct_idx]\n",
        "    display_image(images_list[correct_idx], f\"Predicted: {pred} ({class_names[pred]}), Actual: {lbl}({class_names[lbl]})\")\n",
        "else:\n",
        "    print(\"No correct predictions found\")"
      ]
    },
    {
      "cell_type": "markdown",
      "metadata": {
        "id": "IvrCUICwExDB"
      },
      "source": [
        "## 7. Visualizing the Parameters"
      ]
    },
    {
      "cell_type": "code",
      "execution_count": 20,
      "metadata": {
        "id": "kpuGXde1DL1t"
      },
      "outputs": [
        {
          "name": "stdout",
          "output_type": "stream",
          "text": [
            "torch.Size([10, 32]) torch.Size([10])\n",
            "torch.Size([10, 4, 8])\n"
          ]
        },
        {
          "data": {
            "image/png": "[encoded data removed]",
            "text/plain": [
              "<Figure size 1300x500 with 10 Axes>"
            ]
          },
          "metadata": {},
          "output_type": "display_data"
        }
      ],
      "source": [
        "# Extrahiere die letzte Schicht (Ausgabeschicht)\n",
        "layer = model.lout\n",
        "\n",
        "# Anzahl der Features der Ausgabeschicht\n",
        "n_features = layer.out_features  # n_features = 10 (wegen n_output=10)\n",
        "\n",
        "# Extrahiere die Gewichte und Bias-Werte der Ausgabeschicht\n",
        "w1, b1 = layer.weight.data, layer.bias.data\n",
        "\n",
        "# Überprüfe die Form der Gewichte und Bias-Werte\n",
        "print(w1.shape, b1.shape)  # w1.shape wird [10, 32] sein (32 kommt von der letzten versteckten Schicht)\n",
        "\n",
        "# Die letzte versteckte Schicht hat 32 Neuronen, also ist w1 von der Form [10, 32]\n",
        "\n",
        "# Falls du die Gewichte umformen möchtest, könntest du es entsprechend der Größe anpassen:\n",
        "# Zum Beispiel, wenn du es in [10, 4, 8] umformen möchtest (32 = 4 * 8):\n",
        "w1_reshaped = w1.view(n_features, 4, 8)\n",
        "\n",
        "# Überprüfe die neue Form\n",
        "print(w1_reshaped.shape)  # Dies wird [10, 4, 8] sein\n",
        "\n",
        "# Plotting the weights\n",
        "_, axs = plt.subplots(1, n_features, figsize=(13, 5))\n",
        "\n",
        "for i in range(10): # Loop over the number of output features (classes)\n",
        "    axs[i].imshow(w1_reshaped[i].numpy(), cmap='gray', interpolation='nearest')\n",
        "    axs[i].grid(False)\n",
        "    axs[i].axis('off')\n",
        "    axs[i].set_title(f'{trainset.classes[i]}')\n",
        "plt.show()"
      ]
    },
    {
      "cell_type": "code",
      "execution_count": 21,
      "metadata": {
        "id": "KgZYX8zQh-gb"
      },
      "outputs": [],
      "source": [
        "def get_predictions(model, loader):\n",
        "    model.eval()\n",
        "    predictions = []\n",
        "    labels = []\n",
        "    images_list = []\n",
        "    with torch.no_grad():\n",
        "        for images, label in loader:\n",
        "            output, probs, pred = model(images)\n",
        "            predictions.extend(pred.tolist())\n",
        "            labels.extend(label.tolist())\n",
        "            images_list.extend(images)\n",
        "    return predictions, labels, images_list\n",
        "\n",
        "def calculate_accuracy(predictions, labels):\n",
        "    correct = sum(pred == label for pred, label in zip(predictions, labels))\n",
        "    total = len(labels)\n",
        "    accuracy = correct / total\n",
        "    return accuracy\n",
        "\n"
      ]
    },
    {
      "cell_type": "code",
      "execution_count": 22,
      "metadata": {
        "id": "Kk6Y9MM1h-l-"
      },
      "outputs": [
        {
          "name": "stdout",
          "output_type": "stream",
          "text": [
            "Accuracy: 0.8951\n"
          ]
        }
      ],
      "source": [
        "#generate predictions and compute the final accuracy after training the model\n",
        "predictions, labels, images_list = get_predictions(model, testloader)  \n",
        "accuracy = calculate_accuracy(predictions, labels)\n",
        "print(f\"Accuracy: {accuracy}\")"
      ]
    },
    {
      "cell_type": "code",
      "execution_count": 23,
      "metadata": {},
      "outputs": [
        {
          "name": "stdout",
          "output_type": "stream",
          "text": [
            "Trained model saved as testH_trained_model.pth\n"
          ]
        }
      ],
      "source": [
        "import datetime\n",
        "\n",
        "# Get the current date and time for unique naming\n",
        "current_time = datetime.datetime.now().strftime(\"%Y%m%d-%H%M%S\")\n",
        "\n",
        "# Define the filename using only the test name (will overwrite with each run)\n",
        "test_name = \"testH\"  # Replace with your test name\n",
        "model_filename = f'{test_name}_trained_model.pth'\n",
        "\n",
        "# Save the model and optimizer state dicts\n",
        "save_dict = {\n",
        "    'model_state_dict': model.state_dict(),\n",
        "    'optimizer_state_dict': optimizer.state_dict(),\n",
        "    'epoch': num_epochs,\n",
        "    'train_loss': train_losses_testH,\n",
        "    'test_loss': test_losses_testH,\n",
        "    'time_per_epoch': time_per_epochH\n",
        "}\n",
        "\n",
        "torch.save(save_dict, model_filename)  # Add this line to actually save the dictionary\n",
        "print(f'Trained model saved as {model_filename}')\n"
      ]
    },
    {
      "cell_type": "code",
      "execution_count": 24,
      "metadata": {},
      "outputs": [
        {
          "name": "stdout",
          "output_type": "stream",
          "text": [
            "Results saved in testH_results.json\n"
          ]
        }
      ],
      "source": [
        "# Code for Storing Results in JSON Files\n",
        "import json\n",
        "\n",
        "# Store the results (losses and accuracy) in a dictionary\n",
        "results = {\n",
        "    'train_losses': train_losses_testH,  \n",
        "    'test_losses': test_losses_testH,    \n",
        "    'test_accuracies': test_accuracies_testH, \n",
        "    'final_accuracy': accuracy,  # Store the final accuracy calculated earlier\n",
        "    'time_per_epoch': time_per_epochH\n",
        "}\n",
        "\n",
        "# Save results to a JSON file, overwrite each time\n",
        "json_filename = f'{test_name}_results.json'  # No timestamp to allow overwriting\n",
        "with open(json_filename, 'w') as f:\n",
        "    json.dump(results, f)\n",
        "print(f'Results saved in {json_filename}')\n"
      ]
    }
  ],
  "metadata": {
    "colab": {
      "provenance": []
    },
    "kernelspec": {
      "display_name": "Python 3",
      "name": "python3"
    },
    "language_info": {
      "codemirror_mode": {
        "name": "ipython",
        "version": 3
      },
      "file_extension": ".py",
      "mimetype": "text/x-python",
      "name": "python",
      "nbconvert_exporter": "python",
      "pygments_lexer": "ipython3",
      "version": "3.10.14"
    }
  },
  "nbformat": 4,
  "nbformat_minor": 0
}
